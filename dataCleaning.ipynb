{
 "cells": [
  {
   "cell_type": "code",
   "execution_count": 1,
   "metadata": {},
   "outputs": [],
   "source": [
    "import pandas as pd\n",
    "import plotly.express as px"
   ]
  },
  {
   "cell_type": "code",
   "execution_count": 2,
   "metadata": {},
   "outputs": [
    {
     "data": {
      "text/html": [
       "<div>\n",
       "<style scoped>\n",
       "    .dataframe tbody tr th:only-of-type {\n",
       "        vertical-align: middle;\n",
       "    }\n",
       "\n",
       "    .dataframe tbody tr th {\n",
       "        vertical-align: top;\n",
       "    }\n",
       "\n",
       "    .dataframe thead th {\n",
       "        text-align: right;\n",
       "    }\n",
       "</style>\n",
       "<table border=\"1\" class=\"dataframe\">\n",
       "  <thead>\n",
       "    <tr style=\"text-align: right;\">\n",
       "      <th></th>\n",
       "      <th>YEAR</th>\n",
       "      <th>STATE</th>\n",
       "      <th>TYPE OF PRODUCER</th>\n",
       "      <th>ENERGY SOURCE</th>\n",
       "      <th>GENERATION (Megawatthours)</th>\n",
       "    </tr>\n",
       "  </thead>\n",
       "  <tbody>\n",
       "    <tr>\n",
       "      <th>0</th>\n",
       "      <td>1990</td>\n",
       "      <td>AK</td>\n",
       "      <td>Total Electric Power Industry</td>\n",
       "      <td>Total</td>\n",
       "      <td>5599506.0</td>\n",
       "    </tr>\n",
       "    <tr>\n",
       "      <th>1</th>\n",
       "      <td>1990</td>\n",
       "      <td>AK</td>\n",
       "      <td>Total Electric Power Industry</td>\n",
       "      <td>Coal</td>\n",
       "      <td>510573.0</td>\n",
       "    </tr>\n",
       "    <tr>\n",
       "      <th>2</th>\n",
       "      <td>1990</td>\n",
       "      <td>AK</td>\n",
       "      <td>Total Electric Power Industry</td>\n",
       "      <td>Hydroelectric Conventional</td>\n",
       "      <td>974521.0</td>\n",
       "    </tr>\n",
       "  </tbody>\n",
       "</table>\n",
       "</div>"
      ],
      "text/plain": [
       "   YEAR STATE               TYPE OF PRODUCER               ENERGY SOURCE  \\\n",
       "0  1990    AK  Total Electric Power Industry                       Total   \n",
       "1  1990    AK  Total Electric Power Industry                        Coal   \n",
       "2  1990    AK  Total Electric Power Industry  Hydroelectric Conventional   \n",
       "\n",
       "   GENERATION (Megawatthours)  \n",
       "0                   5599506.0  \n",
       "1                    510573.0  \n",
       "2                    974521.0  "
      ]
     },
     "execution_count": 2,
     "metadata": {},
     "output_type": "execute_result"
    }
   ],
   "source": [
    "dfRaw = pd.read_excel('annual_generation_state.xls', skiprows=1)\n",
    "dfRaw.head(3)"
   ]
  },
  {
   "cell_type": "code",
   "execution_count": 6,
   "metadata": {},
   "outputs": [
    {
     "name": "stderr",
     "output_type": "stream",
     "text": [
      "C:\\Users\\seana3\\AppData\\Local\\Temp\\ipykernel_17856\\1316423654.py:20: FutureWarning: A value is trying to be set on a copy of a DataFrame or Series through chained assignment using an inplace method.\n",
      "The behavior will change in pandas 3.0. This inplace method will never work because the intermediate object on which we are setting values always behaves as a copy.\n",
      "\n",
      "For example, when doing 'df[col].method(value, inplace=True)', try using 'df.method({col: value}, inplace=True)' or df[col] = df[col].method(value) instead, to perform the operation inplace on the original object.\n",
      "\n",
      "\n",
      "  dfFilter['STATE'].replace({'US-Total': 'US-TOTAL'}, inplace=True)\n",
      "C:\\Users\\seana3\\AppData\\Local\\Temp\\ipykernel_17856\\1316423654.py:24: SettingWithCopyWarning: \n",
      "A value is trying to be set on a copy of a slice from a DataFrame\n",
      "\n",
      "See the caveats in the documentation: https://pandas.pydata.org/pandas-docs/stable/user_guide/indexing.html#returning-a-view-versus-a-copy\n",
      "  dfTotals.rename(columns={'MWh': 'Total MWh'}, inplace=True)\n"
     ]
    },
    {
     "data": {
      "text/html": [
       "<div>\n",
       "<style scoped>\n",
       "    .dataframe tbody tr th:only-of-type {\n",
       "        vertical-align: middle;\n",
       "    }\n",
       "\n",
       "    .dataframe tbody tr th {\n",
       "        vertical-align: top;\n",
       "    }\n",
       "\n",
       "    .dataframe thead th {\n",
       "        text-align: right;\n",
       "    }\n",
       "</style>\n",
       "<table border=\"1\" class=\"dataframe\">\n",
       "  <thead>\n",
       "    <tr style=\"text-align: right;\">\n",
       "      <th></th>\n",
       "      <th>YEAR</th>\n",
       "      <th>STATE</th>\n",
       "      <th>ENERGY SOURCE</th>\n",
       "      <th>MWh</th>\n",
       "      <th>Percent</th>\n",
       "    </tr>\n",
       "  </thead>\n",
       "  <tbody>\n",
       "    <tr>\n",
       "      <th>0</th>\n",
       "      <td>1990</td>\n",
       "      <td>AK</td>\n",
       "      <td>Total</td>\n",
       "      <td>5599506.0</td>\n",
       "      <td>100.000000</td>\n",
       "    </tr>\n",
       "    <tr>\n",
       "      <th>1</th>\n",
       "      <td>1990</td>\n",
       "      <td>AK</td>\n",
       "      <td>Coal</td>\n",
       "      <td>510573.0</td>\n",
       "      <td>9.118179</td>\n",
       "    </tr>\n",
       "    <tr>\n",
       "      <th>2</th>\n",
       "      <td>1990</td>\n",
       "      <td>AK</td>\n",
       "      <td>Hydroelectric Conventional</td>\n",
       "      <td>974521.0</td>\n",
       "      <td>17.403696</td>\n",
       "    </tr>\n",
       "  </tbody>\n",
       "</table>\n",
       "</div>"
      ],
      "text/plain": [
       "   YEAR STATE               ENERGY SOURCE        MWh     Percent\n",
       "0  1990    AK                       Total  5599506.0  100.000000\n",
       "1  1990    AK                        Coal   510573.0    9.118179\n",
       "2  1990    AK  Hydroelectric Conventional   974521.0   17.403696"
      ]
     },
     "execution_count": 6,
     "metadata": {},
     "output_type": "execute_result"
    }
   ],
   "source": [
    "# filtering data only looking at total production instead of for each producer type\n",
    "dfFilter = dfRaw[dfRaw['TYPE OF PRODUCER'] == 'Total Electric Power Industry'].copy()\n",
    "del dfFilter['TYPE OF PRODUCER']\n",
    "\n",
    "# defining the sources that I want to look at in this project, then removing other sources\n",
    "SourceList = ['Total', \n",
    "              'Coal', \n",
    "              'Hydroelectric Conventional',\n",
    "              'Natural Gas', \n",
    "              'Wind', \n",
    "              'Nuclear', \n",
    "              'Solar Thermal and Photovoltaic'\n",
    "              ]\n",
    "dfFilter = dfFilter[dfFilter['ENERGY SOURCE'].isin(SourceList)]\n",
    "\n",
    "# Renaming a column\n",
    "dfFilter.rename(columns={'GENERATION (Megawatthours)' : 'MWh'}, inplace=1)\n",
    "\n",
    "# updating an inconsistency in capitalization of some values\n",
    "dfFilter['STATE'].replace({'US-Total': 'US-TOTAL'}, inplace=True)\n",
    "\n",
    "# Creating a new column based on the total for each/year state\n",
    "dfTotals = dfFilter[dfFilter['ENERGY SOURCE'] == 'Total'].copy()\n",
    "dfTotals.rename(columns={'MWh': 'Total MWh'}, inplace=True)\n",
    "del dfTotals['ENERGY SOURCE']\n",
    "dfMerged = pd.merge(dfTotals, dfFilter, on=['YEAR', 'STATE'])\n",
    "\n",
    "# using the new column to find the percentage of totals for each energy source per year and state\n",
    "dfMerged['Percent'] = dfMerged['MWh']/dfMerged['Total MWh']*100\n",
    "\n",
    "# deleting total column since it is no longer needed\n",
    "del dfMerged['Total MWh']\n",
    "\n",
    "dfMerged.to_csv('CleanData.csv')\n",
    "dfMerged.head(3)"
   ]
  }
 ],
 "metadata": {
  "kernelspec": {
   "display_name": "Python 3",
   "language": "python",
   "name": "python3"
  },
  "language_info": {
   "codemirror_mode": {
    "name": "ipython",
    "version": 3
   },
   "file_extension": ".py",
   "mimetype": "text/x-python",
   "name": "python",
   "nbconvert_exporter": "python",
   "pygments_lexer": "ipython3",
   "version": "3.9.13"
  }
 },
 "nbformat": 4,
 "nbformat_minor": 2
}
